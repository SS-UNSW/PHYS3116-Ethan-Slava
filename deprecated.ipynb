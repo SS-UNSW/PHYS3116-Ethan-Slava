{
 "cells": [
  {
   "cell_type": "markdown",
   "id": "a8eb861e",
   "metadata": {},
   "source": [
    "# DELETED CODE"
   ]
  },
  {
   "cell_type": "code",
   "execution_count": null,
   "id": "c1008657",
   "metadata": {},
   "outputs": [],
   "source": [
    "\n",
    "#     x=data_kept['FeH_van'],\n",
    "#     y=data_kept['Age_van'],\n",
    "#     color=data_kept['r_c'],\n",
    "#     label_color=\"Core Radius\",\n",
    "#     title=\"Age vs [Fe/H] (Core Radius)\",\n",
    "#     xlabel=\"[Fe/H]\",\n",
    "#     ylabel=\"Age [Gyr]\"\n",
    "# )\n",
    "\n",
    "# # Central surface brightness (V magnitudes per square arcsecond)\n",
    "# plot_color_graph(\n",
    "#     x=data_kept['FeH_van'],\n",
    "#     y=data_kept['Age_van'],\n",
    "#     color=data_kept['mu_V'],\n",
    "#     label_color=\"Central surface brightness\",\n",
    "#     title=\"Age vs [Fe/H] (Central Surface Brightness)\",\n",
    "#     xlabel=\"[Fe/H]\",\n",
    "#     ylabel=\"Age [Gyr]\"\n",
    "# )\n",
    "\n",
    "# # HB type (from Mackey & van den Bergh 2005)\n",
    "# plot_color_graph(\n",
    "#     x=data_kept['FeH_van'],\n",
    "#     y=data_kept['Age_van'],\n",
    "#     color=data_kept['HBtype'],\n",
    "#     label_color=\"HB type (from Mackey & van den Bergh 2005)\",\n",
    "#     title=\"Age vs [Fe/H] (HB type)\",\n",
    "#     xlabel=\"[Fe/H]\",\n",
    "#     ylabel=\"Age [Gyr]\""
   ]
  },
  {
   "cell_type": "code",
   "execution_count": null,
   "id": "db4f0854",
   "metadata": {},
   "outputs": [],
   "source": [
    "# # Import dependencies\n",
    "# import plotly\n",
    "# import plotly.graph_objs as go\n",
    "\n",
    "# # Configure Plotly to be rendered inline in the notebook.\n",
    "# plotly.offline.init_notebook_mode()\n",
    "\n",
    "# # Configure the trace.\n",
    "# trace = go.Scatter3d(\n",
    "#     x=data_merged['X'],\n",
    "#     y=data_merged['Y'],\n",
    "#     z=data_merged['Z'],\n",
    "#     mode='markers',\n",
    "#     marker=dict(\n",
    "#         size=5,\n",
    "#         color=data_kept['Age_kra'],\n",
    "#         colorscale='Viridis',\n",
    "#         opacity=0.8,\n",
    "#     )\n",
    "# )\n",
    "\n",
    "# # Configure the layout.\n",
    "# layout = go.Layout(\n",
    "#     margin={'l': 0, 'r': 0, 'b': 0, 't': 0}\n",
    "# )\n",
    "\n",
    "# data = [trace]\n",
    "\n",
    "# plot_figure = go.Figure(data=data, layout=layout)\n",
    "\n",
    "# # Render the plot.\n",
    "# plotly.offline.iplot(plot_figure)"
   ]
  },
  {
   "cell_type": "code",
   "execution_count": null,
   "id": "6960caab",
   "metadata": {},
   "outputs": [],
   "source": [
    "# mass_calculation =np.log10( (np.power(data_merged['v_e0'] *1000, 2)) * (data_merged['R_G']*30900000000000000)/(2*0.000000000066743*1.989E+30) )\n",
    "\n",
    "\n",
    "# plt.scatter(data_merged['Age_y'], mass_calculation - data_merged[\"Mstar\"], marker='*')\n",
    "\n",
    "# # Axes\n",
    "# plt.title('Difference in Calculated and Provided Mass vs Age') # Title of graph\n",
    "# plt.xlabel('$Age$, $Gyr$') # x-axis label\n",
    "# plt.ylabel('$Mstar - Calculated Mass$, $Log(M_x/M_sun)$') # y-axis label"
   ]
  }
 ],
 "metadata": {
  "language_info": {
   "name": "python"
  }
 },
 "nbformat": 4,
 "nbformat_minor": 5
}
