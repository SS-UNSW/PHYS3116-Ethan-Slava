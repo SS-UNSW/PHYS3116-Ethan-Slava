{
 "cells": [
  {
   "cell_type": "markdown",
   "id": "d7118469",
   "metadata": {},
   "source": [
    "# Option 1\n",
    "(If we want to use python, that is)"
   ]
  },
  {
   "cell_type": "code",
   "execution_count": null,
   "id": "251f36dc",
   "metadata": {},
   "outputs": [],
   "source": [
    "# Importing python packages\n",
    "import numpy as np\n",
    "import matplotlib.pyplot as plt\n",
    "import pandas as pd\n",
    "import scipy as sp"
   ]
  },
  {
   "cell_type": "code",
   "execution_count": null,
   "id": "780275c0",
   "metadata": {},
   "outputs": [
    {
     "name": "stdout",
     "output_type": "stream",
     "text": [
      "            ID    Name           RA          DEC       L      B  R_Sun  R_gc  \\\n",
      "0      NGC 104  47 Tuc  00:24:05.67  -72:04:52.6  305.89 -44.89    4.5   7.4   \n",
      "1      NGC 288     NaN  00:52:45.24  -26:34:57.4  152.30 -89.38    8.9  12.0   \n",
      "2      NGC 362     NaN  01:03:14.26  -70:50:55.6  301.53 -46.25    8.6   9.4   \n",
      "3    Whiting 1     NaN     02:02:57    -03:15:10  161.22 -60.76   30.1  34.5   \n",
      "4     NGC 1261     NaN  03:12:16.21  -55:12:58.4  270.54 -52.12   16.3  18.1   \n",
      "..         ...     ...          ...          ...     ...    ...    ...   ...   \n",
      "152   NGC 7089     M 2  21:33:27.02  -00:49:23.7   53.37 -35.77   11.5  10.4   \n",
      "153   NGC 7099    M 30  21:40:22.12  -23:10:47.5   27.18 -46.84    8.1   7.1   \n",
      "154     Pal 12     NaN  21:46:38.84  -21:15:09.4   30.51 -47.68   19.0  15.8   \n",
      "155     Pal 13     NaN  23:06:44.44  +12:46:19.2   87.10 -42.70   26.0  26.9   \n",
      "156   NGC 7492     NaN  23:08:26.63  -15:36:41.4   53.39 -63.48   26.3  25.3   \n",
      "\n",
      "        X     Y     Z  \n",
      "0     1.9  -2.6  -3.1  \n",
      "1    -0.1   0.0  -8.9  \n",
      "2     3.1  -5.1  -6.2  \n",
      "3   -13.9   4.7 -26.3  \n",
      "4     0.1 -10.0 -12.9  \n",
      "..    ...   ...   ...  \n",
      "152   5.6   7.5  -6.7  \n",
      "153   4.9   2.5  -5.9  \n",
      "154  11.0   6.5 -14.1  \n",
      "155   1.0  19.1 -17.6  \n",
      "156   7.0   9.4 -23.5  \n",
      "\n",
      "[157 rows x 11 columns]\n"
     ]
    }
   ],
   "source": [
    "# Importing csvs using Panda\n",
    "inputHarrisPartI = pd.read_csv(\"Option 1/HarrisPartI.csv\", index_col=False)\n",
    "inputHarrisPartIII = pd.read_csv(\"Option 1/HarrisPartIII.csv\", index_col=False)\n",
    "inputKrause21 = pd.read_csv(\"Option 1/Krause21.csv\", index_col=False)\n",
    "inputVandenBerg = pd.read_csv(\"Option 1/vandenBerg_table2.csv\", index_col=False)\n",
    "\n",
    "# Printing csv for Harris Part I\n",
    "print(inputHarrisPartI)\n"
   ]
  }
 ],
 "metadata": {
  "kernelspec": {
   "display_name": "COMP9517",
   "language": "python",
   "name": "python3"
  },
  "language_info": {
   "codemirror_mode": {
    "name": "ipython",
    "version": 3
   },
   "file_extension": ".py",
   "mimetype": "text/x-python",
   "name": "python",
   "nbconvert_exporter": "python",
   "pygments_lexer": "ipython3",
   "version": "3.10.9"
  }
 },
 "nbformat": 4,
 "nbformat_minor": 5
}
